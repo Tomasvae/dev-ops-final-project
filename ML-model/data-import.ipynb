{
 "cells": [
  {
   "cell_type": "code",
   "execution_count": 33,
   "metadata": {},
   "outputs": [
    {
     "name": "stdout",
     "output_type": "stream",
     "text": [
      "                     Timestamp Participant_ID  Gender Nationality  Age  \\\n",
      "0  2019/05/07 2:59:13 PM GMT+8         FPS001    Male      Indian   24   \n",
      "1  2019/05/07 2:59:45 PM GMT+8         FPS002  Female      Indian   22   \n",
      "2  2019/05/07 3:00:05 PM GMT+8         FPS003    Male      Indian   31   \n",
      "3  2019/05/07 3:00:11 PM GMT+8         FPS004  Female      Indian   25   \n",
      "4  2019/05/07 3:02:50 PM GMT+8         FPS005    Male      Indian   27   \n",
      "\n",
      "               Food              Juice Dessert  \n",
      "0  Traditional food        Fresh Juice   Maybe  \n",
      "1      Western Food  Carbonated drinks     Yes  \n",
      "2      Western Food        Fresh Juice   Maybe  \n",
      "3  Traditional food        Fresh Juice   Maybe  \n",
      "4  Traditional food        Fresh Juice   Maybe  \n"
     ]
    }
   ],
   "source": [
    "import csv\n",
    "import requests\n",
    "import pandas as pd\n",
    "import dagshub\n",
    "import mlflow\n",
    "from sklearn.model_selection import train_test_split\n",
    "from sklearn.preprocessing import LabelEncoder, OneHotEncoder\n",
    "from sklearn.ensemble import RandomForestClassifier\n",
    "from sklearn.compose import ColumnTransformer\n",
    "from sklearn.pipeline import Pipeline\n",
    "from sklearn.metrics import accuracy_score, precision_score, recall_score, f1_score, classification_report\n",
    "import dvc.api\n",
    "\n",
    "from dotenv import load_dotenv\n",
    "import os\n",
    "\n",
    "# Charger les variables d'environnement\n",
    "load_dotenv()\n",
    "\n",
    "# Récupérer les variables d'environnement\n",
    "dagshub_token = os.getenv(\"DAGSHUB_TOKEN\")\n",
    "aws_access_key_id = os.getenv(\"AWS_ACCESS_KEY_ID\")\n",
    "aws_secret_access_key = os.getenv(\"AWS_SECRET_ACCESS_KEY\")\n",
    "\n",
    "\n",
    "df = pd.read_csv(\"s3://mlprodprojectbucket/files/Food_Preference.csv\")\n",
    "print(df.head())\n",
    "\n",
    "\n"
   ]
  },
  {
   "cell_type": "code",
   "execution_count": 34,
   "metadata": {},
   "outputs": [
    {
     "name": "stderr",
     "output_type": "stream",
     "text": [
      "Token Dagshub OAuth token, valid until 2025-01-03 10:15:00+00:00 does not exist in the storage\n"
     ]
    },
    {
     "data": {
      "text/html": [
       "<pre style=\"white-space:pre;overflow-x:auto;line-height:normal;font-family:Menlo,'DejaVu Sans Mono',consolas,'Courier New',monospace\">                                       <span style=\"font-weight: bold\">❗❗❗ AUTHORIZATION REQUIRED ❗❗❗</span>                                        \n",
       "</pre>\n"
      ],
      "text/plain": [
       "                                       \u001b[1m❗❗❗ AUTHORIZATION REQUIRED ❗❗❗\u001b[0m                                        \n"
      ]
     },
     "metadata": {},
     "output_type": "display_data"
    },
    {
     "name": "stdout",
     "output_type": "stream",
     "text": [
      "\n",
      "\n",
      "Open the following link in your browser to authorize the client:\n",
      "https://dagshub.com/login/oauth/authorize?state=faa42abc-725f-4f76-9e18-540f32884dbf&client_id=32b60ba385aa7cecf24046d8195a71c07dd345d9657977863b52e7748e0f0f28&middleman_request_id=fc1d1e005c297c3e1a91f1aa5e2aab922c502bcebd236bef600a1ff6817705fb\n",
      "\n",
      "\n"
     ]
    },
    {
     "data": {
      "text/html": [
       "<pre style=\"white-space:pre;overflow-x:auto;line-height:normal;font-family:Menlo,'DejaVu Sans Mono',consolas,'Courier New',monospace\">C:\\Users\\Thuyl\\AppData\\Local\\Packages\\PythonSoftwareFoundation.Python.3.11_qbz5n2kfra8p0\\LocalCache\\local-packages\\\n",
       "Python311\\site-packages\\rich\\live.py:231: UserWarning: install \"ipywidgets\" for Jupyter support\n",
       "  warnings.warn('install \"ipywidgets\" for Jupyter support')\n",
       "</pre>\n"
      ],
      "text/plain": [
       "C:\\Users\\Thuyl\\AppData\\Local\\Packages\\PythonSoftwareFoundation.Python.3.11_qbz5n2kfra8p0\\LocalCache\\local-packages\\\n",
       "Python311\\site-packages\\rich\\live.py:231: UserWarning: install \"ipywidgets\" for Jupyter support\n",
       "  warnings.warn('install \"ipywidgets\" for Jupyter support')\n"
      ]
     },
     "metadata": {},
     "output_type": "display_data"
    },
    {
     "data": {
      "text/html": [
       "<pre style=\"white-space:pre;overflow-x:auto;line-height:normal;font-family:Menlo,'DejaVu Sans Mono',consolas,'Courier New',monospace\"></pre>\n"
      ],
      "text/plain": []
     },
     "metadata": {},
     "output_type": "display_data"
    },
    {
     "data": {
      "text/html": [
       "<pre style=\"white-space:pre;overflow-x:auto;line-height:normal;font-family:Menlo,'DejaVu Sans Mono',consolas,'Courier New',monospace\">Initialized MLflow to track repo <span style=\"color: #008000; text-decoration-color: #008000\">\"thuylinh.co/MLProduction_project\"</span>\n",
       "</pre>\n"
      ],
      "text/plain": [
       "Initialized MLflow to track repo \u001b[32m\"thuylinh.co/MLProduction_project\"\u001b[0m\n"
      ]
     },
     "metadata": {},
     "output_type": "display_data"
    },
    {
     "data": {
      "text/html": [
       "<pre style=\"white-space:pre;overflow-x:auto;line-height:normal;font-family:Menlo,'DejaVu Sans Mono',consolas,'Courier New',monospace\">Repository thuylinh.co/MLProduction_project initialized!\n",
       "</pre>\n"
      ],
      "text/plain": [
       "Repository thuylinh.co/MLProduction_project initialized!\n"
      ]
     },
     "metadata": {},
     "output_type": "display_data"
    }
   ],
   "source": [
    "# DagsHub initialization\n",
    "repo_owner = \"thuylinh.co\"\n",
    "repo_name = \"MLProduction_project\"\n",
    "dagshub.init(repo_owner=repo_owner, repo_name=repo_name, mlflow=True)\n",
    "mlflow.set_tracking_uri(f\"https://dagshub.com/{repo_owner}/{repo_name}.mlflow\")\n",
    "\n",
    "\n"
   ]
  },
  {
   "cell_type": "code",
   "execution_count": 35,
   "metadata": {},
   "outputs": [
    {
     "name": "stdout",
     "output_type": "stream",
     "text": [
      "                     Timestamp Participant_ID  Gender Nationality  Age  \\\n",
      "0  2019/05/07 2:59:13 PM GMT+8         FPS001    Male      Indian   24   \n",
      "1  2019/05/07 2:59:45 PM GMT+8         FPS002  Female      Indian   22   \n",
      "2  2019/05/07 3:00:05 PM GMT+8         FPS003    Male      Indian   31   \n",
      "3  2019/05/07 3:00:11 PM GMT+8         FPS004  Female      Indian   25   \n",
      "4  2019/05/07 3:02:50 PM GMT+8         FPS005    Male      Indian   27   \n",
      "\n",
      "               Food              Juice Dessert  \n",
      "0  Traditional food        Fresh Juice   Maybe  \n",
      "1      Western Food  Carbonated drinks     Yes  \n",
      "2      Western Food        Fresh Juice   Maybe  \n",
      "3  Traditional food        Fresh Juice   Maybe  \n",
      "4  Traditional food        Fresh Juice   Maybe  \n"
     ]
    }
   ],
   "source": [
    "# Afficher les premières lignes pour vérifier\n",
    "print(df.head())\n"
   ]
  },
  {
   "cell_type": "code",
   "execution_count": 46,
   "metadata": {},
   "outputs": [
    {
     "name": "stdout",
     "output_type": "stream",
     "text": [
      "0      3\n",
      "1      3\n",
      "2      3\n",
      "3      3\n",
      "4      3\n",
      "      ..\n",
      "283    3\n",
      "284    3\n",
      "285    3\n",
      "286    3\n",
      "287    3\n",
      "Name: Nationality, Length: 288, dtype: int64\n"
     ]
    }
   ],
   "source": [
    "print(df['Nationality'])"
   ]
  },
  {
   "cell_type": "code",
   "execution_count": null,
   "metadata": {},
   "outputs": [
    {
     "name": "stderr",
     "output_type": "stream",
     "text": [
      "2025/01/03 16:46:00 WARNING mlflow.models.model: Model logged without a signature and input example. Please set `input_example` parameter when logging the model to auto infer the model signature.\n",
      "Registered model 'Food_model' already exists. Creating a new version of this model...\n",
      "2025/01/03 16:46:04 INFO mlflow.store.model_registry.abstract_store: Waiting up to 300 seconds for model version to finish creation. Model name: Food_model, version 8\n",
      "Created version '8' of model 'Food_model'.\n",
      "C:\\Users\\Thuyl\\AppData\\Local\\Temp\\ipykernel_10380\\3764323335.py:75: FutureWarning: ``mlflow.tracking.client.MlflowClient.transition_model_version_stage`` is deprecated since 2.9.0. Model registry stages will be removed in a future major release. To learn more about the deprecation of model registry stages, see our migration guide here: https://mlflow.org/docs/latest/model-registry.html#migrating-from-stages\n",
      "  client.transition_model_version_stage(\n"
     ]
    },
    {
     "name": "stdout",
     "output_type": "stream",
     "text": [
      "Food_model saved in Model Registry\n",
      "🏃 View run popular-ray-887 at: https://dagshub.com/thuylinh.co/MLProduction_project.mlflow/#/experiments/0/runs/87a9a3170182496daf7bda449c454e69\n",
      "🧪 View experiment at: https://dagshub.com/thuylinh.co/MLProduction_project.mlflow/#/experiments/0\n",
      "---- Food Model Evaluation ----\n",
      "Accuracy: 0.7931\n",
      "Precision: 0.8331\n",
      "Recall: 0.7931\n",
      "F1 Score: 0.8095\n",
      "\n",
      "Classification Report:\n",
      "                  precision    recall  f1-score   support\n",
      "\n",
      "Traditional food       0.91      0.84      0.88        50\n",
      "    Western Food       0.33      0.50      0.40         8\n",
      "\n",
      "        accuracy                           0.79        58\n",
      "       macro avg       0.62      0.67      0.64        58\n",
      "    weighted avg       0.83      0.79      0.81        58\n",
      "\n"
     ]
    },
    {
     "name": "stderr",
     "output_type": "stream",
     "text": [
      "2025/01/03 16:46:14 WARNING mlflow.models.model: Model logged without a signature and input example. Please set `input_example` parameter when logging the model to auto infer the model signature.\n",
      "Registered model 'Juice_model' already exists. Creating a new version of this model...\n",
      "2025/01/03 16:46:20 INFO mlflow.store.model_registry.abstract_store: Waiting up to 300 seconds for model version to finish creation. Model name: Juice_model, version 8\n",
      "Created version '8' of model 'Juice_model'.\n",
      "C:\\Users\\Thuyl\\AppData\\Local\\Temp\\ipykernel_10380\\3764323335.py:75: FutureWarning: ``mlflow.tracking.client.MlflowClient.transition_model_version_stage`` is deprecated since 2.9.0. Model registry stages will be removed in a future major release. To learn more about the deprecation of model registry stages, see our migration guide here: https://mlflow.org/docs/latest/model-registry.html#migrating-from-stages\n",
      "  client.transition_model_version_stage(\n"
     ]
    },
    {
     "name": "stdout",
     "output_type": "stream",
     "text": [
      "Juice_model saved in Model Registry\n",
      "🏃 View run skittish-asp-420 at: https://dagshub.com/thuylinh.co/MLProduction_project.mlflow/#/experiments/0/runs/87d1386aca8646dfa20df8a648a988c5\n",
      "🧪 View experiment at: https://dagshub.com/thuylinh.co/MLProduction_project.mlflow/#/experiments/0\n",
      "---- Juice Model Evaluation ----\n",
      "Accuracy: 0.7241\n",
      "Precision: 0.8392\n",
      "Recall: 0.7241\n",
      "F1 Score: 0.7742\n",
      "\n",
      "Classification Report:\n",
      "                   precision    recall  f1-score   support\n",
      "\n",
      "Carbonated drinks       0.08      0.20      0.11         5\n",
      "      Fresh Juice       0.91      0.77      0.84        53\n",
      "\n",
      "         accuracy                           0.72        58\n",
      "        macro avg       0.49      0.49      0.47        58\n",
      "     weighted avg       0.84      0.72      0.77        58\n",
      "\n"
     ]
    },
    {
     "name": "stderr",
     "output_type": "stream",
     "text": [
      "2025/01/03 16:46:34 WARNING mlflow.models.model: Model logged without a signature and input example. Please set `input_example` parameter when logging the model to auto infer the model signature.\n",
      "Registered model 'Dessert_model' already exists. Creating a new version of this model...\n",
      "2025/01/03 16:46:40 INFO mlflow.store.model_registry.abstract_store: Waiting up to 300 seconds for model version to finish creation. Model name: Dessert_model, version 8\n",
      "Created version '8' of model 'Dessert_model'.\n",
      "C:\\Users\\Thuyl\\AppData\\Local\\Temp\\ipykernel_10380\\3764323335.py:75: FutureWarning: ``mlflow.tracking.client.MlflowClient.transition_model_version_stage`` is deprecated since 2.9.0. Model registry stages will be removed in a future major release. To learn more about the deprecation of model registry stages, see our migration guide here: https://mlflow.org/docs/latest/model-registry.html#migrating-from-stages\n",
      "  client.transition_model_version_stage(\n"
     ]
    },
    {
     "name": "stdout",
     "output_type": "stream",
     "text": [
      "Dessert_model saved in Model Registry\n",
      "🏃 View run honorable-mule-588 at: https://dagshub.com/thuylinh.co/MLProduction_project.mlflow/#/experiments/0/runs/af6c28186c21457ba5bdbc8b2a78a0f7\n",
      "🧪 View experiment at: https://dagshub.com/thuylinh.co/MLProduction_project.mlflow/#/experiments/0\n",
      "---- Dessert Model Evaluation ----\n",
      "Accuracy: 0.4138\n",
      "Precision: 0.4538\n",
      "Recall: 0.4138\n",
      "F1 Score: 0.4260\n",
      "\n",
      "Classification Report:\n",
      "              precision    recall  f1-score   support\n",
      "\n",
      "       Maybe       0.55      0.44      0.49        25\n",
      "          No       0.22      0.40      0.29        10\n",
      "         Yes       0.45      0.39      0.42        23\n",
      "\n",
      "    accuracy                           0.41        58\n",
      "   macro avg       0.41      0.41      0.40        58\n",
      "weighted avg       0.45      0.41      0.43        58\n",
      "\n"
     ]
    }
   ],
   "source": [
    "from imblearn.over_sampling import RandomOverSampler\n",
    "from sklearn.model_selection import train_test_split\n",
    "from sklearn.compose import ColumnTransformer\n",
    "from sklearn.preprocessing import OneHotEncoder\n",
    "from sklearn.ensemble import RandomForestClassifier\n",
    "from sklearn.pipeline import Pipeline\n",
    "from sklearn.metrics import accuracy_score, precision_score, recall_score, f1_score, classification_report\n",
    "\n",
    "def evaluate_model(X, y, target_name):\n",
    "    # 1) Split entraînement / test\n",
    "    X_train, X_test, y_train, y_test = train_test_split(\n",
    "        X, y, test_size=0.2, random_state=42\n",
    "    )\n",
    "\n",
    "    # 2) Suréchantillonner uniquement le TRAIN\n",
    "    ros = RandomOverSampler(random_state=42)\n",
    "    X_train_res, y_train_res = ros.fit_resample(X_train, y_train)\n",
    "\n",
    "    # 3) Définir le préprocesseur (OneHotEncoder pour 'Gender', 'Nationality')\n",
    "    categorical_features = ['Gender', 'Nationality']\n",
    "    numeric_features = ['Age']\n",
    "\n",
    "    preprocessor = ColumnTransformer(\n",
    "        transformers=[\n",
    "            ('num', 'passthrough', numeric_features),\n",
    "            ('cat', OneHotEncoder(handle_unknown='ignore'), categorical_features)\n",
    "        ]\n",
    "    )\n",
    "\n",
    "    # 4) Construire le pipeline (prétraitement + classifier)\n",
    "    model = Pipeline(steps=[\n",
    "        ('preprocessor', preprocessor),\n",
    "        ('classifier', RandomForestClassifier(\n",
    "            n_estimators=100,\n",
    "            random_state=42,\n",
    "            class_weight='balanced'  # vous l’aviez déjà ajouté\n",
    "        ))\n",
    "    ])\n",
    "\n",
    "    # 5) Entraîner sur le jeu suréchantillonné\n",
    "    model.fit(X_train_res, y_train_res)\n",
    "\n",
    "    # 6) Prédire sur le vrai jeu de test (non suréchantillonné)\n",
    "    y_pred = model.predict(X_test)\n",
    "\n",
    "    # 7) Calculer les métriques\n",
    "    accuracy = accuracy_score(y_test, y_pred)\n",
    "    precision = precision_score(y_test, y_pred, average='weighted')\n",
    "    recall = recall_score(y_test, y_pred, average='weighted')\n",
    "    f1 = f1_score(y_test, y_pred, average='weighted')\n",
    "\n",
    "    # 8) Enregistrer et logger dans MLflow (optionnel, selon vos besoins)\n",
    "    with mlflow.start_run():\n",
    "        mlflow.log_param(\"target\", target_name)\n",
    "        mlflow.log_metric(\"accuracy\", accuracy)\n",
    "        mlflow.log_metric(\"precision\", precision)\n",
    "        mlflow.log_metric(\"recall\", recall)\n",
    "        mlflow.log_metric(\"f1_score\", f1)\n",
    "        mlflow.sklearn.log_model(model, f\"{target_name}_model\")\n",
    "\n",
    "        cr = classification_report(y_test, y_pred, output_dict=True)\n",
    "        mlflow.log_dict(cr, f\"{target_name}_classification_report.json\")\n",
    "\n",
    "        registered_model = mlflow.register_model(\n",
    "            model_uri=f\"runs:/{mlflow.active_run().info.run_id}/{target_name}_model\",\n",
    "            name=f\"{target_name}_model\"\n",
    "        )\n",
    "        \n",
    "        client = mlflow.tracking.MlflowClient()\n",
    "        client.transition_model_version_stage(\n",
    "            name=f\"{target_name}_model\",\n",
    "            version=registered_model.version,\n",
    "            stage=\"Production\"\n",
    "        )\n",
    "\n",
    "        print(f\"{target_name}_model saved in Model Registry\")\n",
    "\n",
    "    # 9) Afficher le rapport dans la console\n",
    "    print(f\"---- {target_name} Model Evaluation ----\")\n",
    "    print(f\"Accuracy: {accuracy:.4f}\")\n",
    "    print(f\"Precision: {precision:.4f}\")\n",
    "    print(f\"Recall: {recall:.4f}\")\n",
    "    print(f\"F1 Score: {f1:.4f}\")\n",
    "    print(\"\\nClassification Report:\")\n",
    "    print(classification_report(y_test, y_pred))\n",
    "\n",
    "# Ensuite, appelez votre fonction comme avant\n",
    "evaluate_model(X, y_food, \"Food\")\n",
    "evaluate_model(X, y_juice, \"Juice\")\n",
    "evaluate_model(X, y_dessert, \"Dessert\")\n"
   ]
  },
  {
   "cell_type": "code",
   "execution_count": 37,
   "metadata": {},
   "outputs": [],
   "source": [
    "from dotenv import load_dotenv\n",
    "import os\n",
    "\n",
    "# Charger les variables d'environnement\n",
    "load_dotenv()\n",
    "\n",
    "aws_access_key_id = os.getenv(\"AWS_ACCESS_KEY_ID\")\n",
    "aws_secret_access_key = os.getenv(\"AWS_SECRET_ACCESS_KEY\")\n",
    "\n",
    "# Exemple d'utilisation pour charger un fichier S3\n",
    "df = pd.read_csv(\n",
    "    \"s3://mlprodprojectbucket/files/Food_Preference.csv\",\n",
    "    storage_options={\n",
    "        \"key\": aws_access_key_id,\n",
    "        \"secret\": aws_secret_access_key,\n",
    "    }\n",
    ")\n"
   ]
  },
  {
   "cell_type": "code",
   "execution_count": 78,
   "metadata": {},
   "outputs": [
    {
     "name": "stderr",
     "output_type": "stream",
     "text": [
      "Downloading artifacts: 100%|██████████| 5/5 [00:00<00:00,  6.15it/s]\n",
      "Downloading artifacts: 100%|██████████| 5/5 [00:03<00:00,  1.66it/s]\n",
      "Downloading artifacts: 100%|██████████| 5/5 [00:05<00:00,  1.02s/it]\n"
     ]
    },
    {
     "name": "stdout",
     "output_type": "stream",
     "text": [
      "   Gender Nationality  Age\n",
      "0  Female    Canadian   25\n",
      "{'Gender': 'Female', 'Nationality': 'Canadian', 'Age': 25} => ['Traditional food'] ['Fresh Juice'] ['Yes']\n",
      "{'Gender': 'Male', 'Nationality': 'Canadian', 'Age': 25} => ['Traditional food'] ['Fresh Juice'] ['Yes']\n",
      "{'Gender': 'Male', 'Nationality': 'Indian', 'Age': 40} => ['Traditional food'] ['Fresh Juice'] ['Yes']\n",
      "{'Gender': 'Male', 'Nationality': 'Yemen', 'Age': 50} => ['Traditional food'] ['Fresh Juice'] ['Yes']\n",
      "{'Gender': 'Female', 'Nationality': 'Pakistani', 'Age': 20} => ['Traditional food'] ['Fresh Juice'] ['Maybe']\n",
      "{'Gender': 'Female', 'Nationality': 'Canadian', 'Age': 16} => ['Traditional food'] ['Fresh Juice'] ['Yes']\n",
      "{'Gender': 'Male', 'Nationality': 'Malaysian', 'Age': 35} => ['Traditional food'] ['Fresh Juice'] ['Yes']\n",
      "{'Gender': 'Female', 'Nationality': 'Pakistani', 'Age': 15} => ['Traditional food'] ['Fresh Juice'] ['Maybe']\n"
     ]
    }
   ],
   "source": [
    "food_model = mlflow.sklearn.load_model(\"models:/Food_model/8\")\n",
    "juice_model = mlflow.sklearn.load_model(\"models:/Juice_model/8\")\n",
    "dessert_model = mlflow.sklearn.load_model(\"models:/Dessert_model/8\")\n",
    "\n",
    "\n",
    "df_input = pd.DataFrame([\n",
    "  {\"Gender\": \"Female\", \"Nationality\": \"Canadian\", \"Age\": 25}\n",
    "])\n",
    "print(df_input)\n",
    "\n",
    "test_cases = [\n",
    "    {\"Gender\": \"Female\", \"Nationality\": \"Canadian\", \"Age\": 25},\n",
    "    {\"Gender\": \"Male\",   \"Nationality\": \"Canadian\", \"Age\": 25},\n",
    "    {\"Gender\": \"Male\",   \"Nationality\": \"Indian\",   \"Age\": 40},\n",
    "    {\"Gender\": \"Male\",   \"Nationality\": \"Yemen\",    \"Age\": 50},\n",
    "    {\"Gender\": \"Female\", \"Nationality\": \"Pakistani\",\"Age\": 20},\n",
    "    {\"Gender\": \"Female\",   \"Nationality\": \"Canadian\",\"Age\": 16},\n",
    "    {\"Gender\": \"Male\",   \"Nationality\": \"Malaysian\",    \"Age\": 35},\n",
    "    {\"Gender\": \"Female\", \"Nationality\": \"Pakistani\",\"Age\": 15}\n",
    "]\n",
    "\n",
    "for case in test_cases:\n",
    "    df_test = pd.DataFrame([case])\n",
    "    food_pred = food_model.predict(df_test)\n",
    "    juice_pred = juice_model.predict(df_test)\n",
    "    dessert_pred = dessert_model.predict(df_test)\n",
    "    print(case, \"=>\", food_pred, juice_pred,dessert_pred)\n"
   ]
  },
  {
   "cell_type": "code",
   "execution_count": 64,
   "metadata": {},
   "outputs": [
    {
     "name": "stdout",
     "output_type": "stream",
     "text": [
      "[('Traditional food', 238), ('Western Food', 238)]\n"
     ]
    }
   ],
   "source": [
    "from imblearn.over_sampling import RandomOverSampler\n",
    "from collections import Counter\n",
    "\n",
    "X = df[['Gender', 'Nationality', 'Age']]\n",
    "y = df['Food']\n",
    "\n",
    "ros = RandomOverSampler(random_state=42)\n",
    "X_resampled, y_resampled = ros.fit_resample(X, y)\n",
    "\n",
    "print(sorted(Counter(y_resampled).items()))\n"
   ]
  }
 ],
 "metadata": {
  "kernelspec": {
   "display_name": "Python 3",
   "language": "python",
   "name": "python3"
  },
  "language_info": {
   "codemirror_mode": {
    "name": "ipython",
    "version": 3
   },
   "file_extension": ".py",
   "mimetype": "text/x-python",
   "name": "python",
   "nbconvert_exporter": "python",
   "pygments_lexer": "ipython3",
   "version": "3.11.9"
  }
 },
 "nbformat": 4,
 "nbformat_minor": 2
}
